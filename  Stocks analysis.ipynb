{
 "cells": [
  {
   "cell_type": "markdown",
   "metadata": {},
   "source": [
    "# Stocks analysis\n",
    "### import required llibraries"
   ]
  },
  {
   "cell_type": "code",
   "execution_count": 1,
   "metadata": {},
   "outputs": [
    {
     "ename": "ModuleNotFoundError",
     "evalue": "No module named 'pandas_datareader'",
     "output_type": "error",
     "traceback": [
      "\u001b[1;31m---------------------------------------------------------------------------\u001b[0m",
      "\u001b[1;31mModuleNotFoundError\u001b[0m                       Traceback (most recent call last)",
      "\u001b[1;32m<ipython-input-1-9dfdf5643251>\u001b[0m in \u001b[0;36m<module>\u001b[1;34m\u001b[0m\n\u001b[0;32m      2\u001b[0m \u001b[1;32mimport\u001b[0m \u001b[0mpandas\u001b[0m \u001b[1;32mas\u001b[0m \u001b[0mpd\u001b[0m\u001b[1;33m\u001b[0m\u001b[1;33m\u001b[0m\u001b[0m\n\u001b[0;32m      3\u001b[0m \u001b[1;32mimport\u001b[0m \u001b[0mnumpy\u001b[0m \u001b[1;32mas\u001b[0m \u001b[0mnp\u001b[0m\u001b[1;33m\u001b[0m\u001b[1;33m\u001b[0m\u001b[0m\n\u001b[1;32m----> 4\u001b[1;33m \u001b[1;32mfrom\u001b[0m \u001b[0mpandas_datareader\u001b[0m \u001b[1;32mimport\u001b[0m \u001b[0mdata\u001b[0m\u001b[1;33m,\u001b[0m \u001b[0mwb\u001b[0m\u001b[1;33m\u001b[0m\u001b[1;33m\u001b[0m\u001b[0m\n\u001b[0m\u001b[0;32m      5\u001b[0m \u001b[1;32mimport\u001b[0m \u001b[0mdatetime\u001b[0m\u001b[1;33m\u001b[0m\u001b[1;33m\u001b[0m\u001b[0m\n\u001b[0;32m      6\u001b[0m \u001b[1;32mimport\u001b[0m \u001b[0mmatplotlib\u001b[0m\u001b[1;33m.\u001b[0m\u001b[0mpyplot\u001b[0m \u001b[1;32mas\u001b[0m \u001b[0mplt\u001b[0m\u001b[1;33m\u001b[0m\u001b[1;33m\u001b[0m\u001b[0m\n",
      "\u001b[1;31mModuleNotFoundError\u001b[0m: No module named 'pandas_datareader'"
     ]
    }
   ],
   "source": [
    "import yfinance as yf\n",
    "import pandas as pd\n",
    "import numpy as np\n",
    "from pandas_datareader import data, wb\n",
    "import datetime\n",
    "import matplotlib.pyplot as plt\n",
    "plt.style.use(\"seaborn\")\n",
    "import cufflinks as cf\n",
    "import seaborn as sns\n",
    "%matplotlib inline"
   ]
  },
  {
   "cell_type": "markdown",
   "metadata": {},
   "source": [
    "# ADD Stocks into tickers"
   ]
  },
  {
   "cell_type": "code",
   "execution_count": null,
   "metadata": {},
   "outputs": [],
   "source": [
    "tickers = [\"TCS.NS\",\"INFY.NS\",\"WIPRO.NS\",\"BHARTIARTL.NS\",\"TECHM.NS\",\"CIPLA.NS\" ]\n",
    "# stocksdownload = yf.download(tickers, start = \"2008-12-30\", end = \"2020-05-20\") # download data from yahoo finance\n",
    "stocksdownload = yf.download(tickers, start = \"2008-12-30\")                 # download latest data"
   ]
  },
  {
   "cell_type": "code",
   "execution_count": null,
   "metadata": {},
   "outputs": [],
   "source": [
    "df = pd.DataFrame(data=tickers)\n",
    "df.to_csv(\"tickers.csv\", sep=',')"
   ]
  },
  {
   "cell_type": "code",
   "execution_count": null,
   "metadata": {},
   "outputs": [],
   "source": [
    "print(tickers)"
   ]
  },
  {
   "cell_type": "code",
   "execution_count": null,
   "metadata": {
    "scrolled": true
   },
   "outputs": [],
   "source": [
    "#type(tickers[0])\n",
    "stocksdownload.head()"
   ]
  },
  {
   "cell_type": "code",
   "execution_count": null,
   "metadata": {},
   "outputs": [],
   "source": [
    "#stocks.head()\n",
    "#stocks.tail()\n",
    "stocksdownload.columns = pd.MultiIndex.from_tuples(stocksdownload.columns) # convert column title as index\n",
    "stocksdownload.head(2)"
   ]
  },
  {
   "cell_type": "markdown",
   "metadata": {},
   "source": [
    "******"
   ]
  },
  {
   "cell_type": "code",
   "execution_count": null,
   "metadata": {},
   "outputs": [],
   "source": [
    "stocksdownload.to_csv(\"stocks.csv\")  # save downloded data to CSV File\n",
    "stocks = pd.read_csv(\"stocks.csv\", header = [0, 1], index_col = [0], parse_dates = [0])   # read data from saved file\n",
    "stocks.head(2)"
   ]
  },
  {
   "cell_type": "markdown",
   "metadata": {},
   "source": [
    "*****"
   ]
  },
  {
   "cell_type": "markdown",
   "metadata": {},
   "source": [
    "### *Close Price adjusted for splits"
   ]
  },
  {
   "cell_type": "code",
   "execution_count": null,
   "metadata": {},
   "outputs": [],
   "source": [
    "# read paricular column index Close\n",
    "StocksClose = pd.read_csv(\"stocks.csv\", header = [0,1], index_col= [0], parse_dates= [0]).Close  \n",
    "StocksClose.head()"
   ]
  },
  {
   "cell_type": "code",
   "execution_count": null,
   "metadata": {},
   "outputs": [],
   "source": [
    "normclose = StocksClose.div(StocksClose.iloc[0, :]).mul(100)   # normalise the stock close values to 100 for making sense.\n",
    "#norm\n",
    "cf.set_config_file(offline = True)\n",
    "cf.go_offline()\n",
    "#norm.iplot()\n",
    "# norm.iplot(kind = \"line\", fill = True)\n",
    "# cf.getThemes()\n",
    "#norm.iplot(kind = \"line\", fill = True, colorscale= \"rdylbu\", theme= \"solar\")\n",
    "normclose.iplot(kind = \"line\", fill = True, colorscale= \"rdylbu\", theme= \"solar\", \n",
    "             title= \"India Stocks\", xTitle= \"Time\", yTitle= \"Stock Price\")\n"
   ]
  },
  {
   "cell_type": "markdown",
   "metadata": {},
   "source": [
    "### **Adj Close price adjusted for both dividends and splits"
   ]
  },
  {
   "cell_type": "code",
   "execution_count": null,
   "metadata": {},
   "outputs": [],
   "source": [
    "# read paricular column index Close\n",
    "StocksAdjClose = pd.read_csv(\"stocks.csv\", header = [0,1], index_col= [0], parse_dates= [0])['Adj Close']  \n",
    "StocksAdjClose.head(2)"
   ]
  },
  {
   "cell_type": "code",
   "execution_count": null,
   "metadata": {},
   "outputs": [],
   "source": [
    "normAdjClose = StocksAdjClose.div(StocksAdjClose.iloc[0, :]).mul(100)   # normalise the stock close values to 100 for making sense.\n",
    "#norm\n",
    "cf.set_config_file(offline = True)\n",
    "cf.go_offline()\n",
    "#norm.iplot()\n",
    "# norm.iplot(kind = \"line\", fill = True)\n",
    "# cf.getThemes()\n",
    "#norm.iplot(kind = \"line\", fill = True, colorscale= \"rdylbu\", theme= \"solar\")\n",
    "normAdjClose.iplot(kind = \"line\", fill = True, colorscale= \"rdylbu\", theme= \"solar\", \n",
    "             title= \"India Stocks\", xTitle= \"Time\", yTitle= \"Stock Price\")\n"
   ]
  },
  {
   "cell_type": "markdown",
   "metadata": {},
   "source": [
    "### Creating Interactive Histograms"
   ]
  },
  {
   "cell_type": "code",
   "execution_count": null,
   "metadata": {},
   "outputs": [],
   "source": [
    "#StocksAdjClose.head()"
   ]
  },
  {
   "cell_type": "code",
   "execution_count": null,
   "metadata": {},
   "outputs": [],
   "source": [
    "ret = StocksAdjClose.pct_change().dropna()   # create daily return of close value\n",
    "ret.to_csv(\"stocksret.csv\")  # save downloded data to CSV File\n",
    "ret.head()"
   ]
  },
  {
   "cell_type": "code",
   "execution_count": null,
   "metadata": {},
   "outputs": [],
   "source": [
    "#returns[1:]\n",
    "import seaborn as sns\n",
    "sns.pairplot(ret[1:])"
   ]
  },
  {
   "cell_type": "code",
   "execution_count": null,
   "metadata": {},
   "outputs": [],
   "source": [
    "sns.distplot(ret.loc['2015-01-01':'2015-12-31'][tickers[0]],color='green',bins=100)"
   ]
  },
  {
   "cell_type": "code",
   "execution_count": null,
   "metadata": {},
   "outputs": [],
   "source": [
    "sns.distplot(ret.loc['2015-01-01':'2015-12-31'][tickers[1]],color='green',bins=100)"
   ]
  },
  {
   "cell_type": "code",
   "execution_count": null,
   "metadata": {},
   "outputs": [],
   "source": [
    "sns.distplot(ret.loc['2015-01-01':'2015-12-31'][tickers[2]],color='green',bins=100)"
   ]
  },
  {
   "cell_type": "code",
   "execution_count": null,
   "metadata": {},
   "outputs": [],
   "source": [
    "sns.distplot(ret.loc['2015-01-01':'2015-12-31'][tickers[3]],color='green',bins=100)"
   ]
  },
  {
   "cell_type": "code",
   "execution_count": null,
   "metadata": {},
   "outputs": [],
   "source": [
    "sns.distplot(ret.loc['2015-01-01':'2015-12-31'][tickers[4]],color='green',bins=100)"
   ]
  },
  {
   "cell_type": "code",
   "execution_count": null,
   "metadata": {},
   "outputs": [],
   "source": [
    "sns.distplot(ret.loc['2015-01-01':'2015-12-31'][tickers[5]],color='green',bins=100)"
   ]
  },
  {
   "cell_type": "code",
   "execution_count": null,
   "metadata": {},
   "outputs": [],
   "source": []
  },
  {
   "cell_type": "code",
   "execution_count": null,
   "metadata": {},
   "outputs": [],
   "source": [
    "ret.iplot(kind = \"histogram\", bins = (-0.15, 0.1, 0.001), histnorm= \"percent\")"
   ]
  },
  {
   "cell_type": "markdown",
   "metadata": {},
   "source": [
    "### Interactive Candlestick and OHLC Charts"
   ]
  },
  {
   "cell_type": "code",
   "execution_count": null,
   "metadata": {},
   "outputs": [],
   "source": [
    "stocks = pd.read_csv(\"stocks.csv\", header = [0,1], index_col= [0], parse_dates= [0]) # read the saved file data\n",
    "stocks.head()"
   ]
  },
  {
   "cell_type": "markdown",
   "metadata": {},
   "source": [
    "# NEED TO ADD SINGLE STOCK"
   ]
  },
  {
   "cell_type": "markdown",
   "metadata": {},
   "source": [
    "### Stockone"
   ]
  },
  {
   "cell_type": "code",
   "execution_count": null,
   "metadata": {},
   "outputs": [],
   "source": [
    "StokeName = tickers[0]\n",
    "StokeName"
   ]
  },
  {
   "cell_type": "code",
   "execution_count": null,
   "metadata": {},
   "outputs": [],
   "source": [
    "Stockone = stocks.swaplevel(axis = 1).loc[:,tickers[0] ].copy()    # copy the particular stock for  deatail analysing\n",
    "Stockone.head()\n",
    "Stockone.to_csv(tickers[0] + \".csv\")"
   ]
  },
  {
   "cell_type": "code",
   "execution_count": null,
   "metadata": {},
   "outputs": [],
   "source": [
    "Stockone.loc[\"5-2008\":\"9-2019\"].iplot(kind= \"candle\")   # CANDLE STICK GRAPH\n",
    "#Stockone.head()\n",
    "### Adding SMA and Bollinger Bands\n",
    "qf1 = cf.QuantFig(df = Stockone.loc[\"5-2017\":\"9-2017\"])    # ANALYSE IN PARTICULAR TIME PERIOD\n",
    "#type(qf)\n",
    "qf1.iplot(title = tickers[0], name = tickers[0])\n",
    "qf1.add_sma(periods = 20)                          # add SMA in graph\n",
    "qf1.iplot(title = tickers[0], name = tickers[0])\n",
    "qf1.add_bollinger_bands(periods = 20, boll_std= 2)   # add bollinger band in  graph \n",
    "qf1.iplot(title = tickers[0], name = tickers[0])"
   ]
  },
  {
   "cell_type": "markdown",
   "metadata": {},
   "source": [
    "## Adding more Technical Indicators"
   ]
  },
  {
   "cell_type": "code",
   "execution_count": null,
   "metadata": {},
   "outputs": [],
   "source": [
    "qf1 = cf.QuantFig(df = Stockone.loc[\"5-2017\":\"9-2017\"])\n",
    "qf1.add_bollinger_bands(periods = 20, boll_std= 2)\n",
    "qf1.add_sma(periods = 20)\n",
    "qf1.add_macd()\n",
    "qf1.add_volume()\n",
    "qf1.add_dmi()\n",
    "qf1.iplot(title = tickers[0], name = tickers[0])"
   ]
  },
  {
   "cell_type": "markdown",
   "metadata": {},
   "source": [
    "### StockTwo"
   ]
  },
  {
   "cell_type": "code",
   "execution_count": null,
   "metadata": {},
   "outputs": [],
   "source": [
    "StockName = tickers[1]\n",
    "StockName"
   ]
  },
  {
   "cell_type": "code",
   "execution_count": null,
   "metadata": {},
   "outputs": [],
   "source": [
    "Stocktwo = stocks.swaplevel(axis = 1).loc[:,tickers[1] ].copy()    # copy the particular stock for  deatail analysing\n",
    "Stocktwo.head()\n",
    "Stocktwo.to_csv(tickers[1] + \".csv\")"
   ]
  },
  {
   "cell_type": "code",
   "execution_count": null,
   "metadata": {},
   "outputs": [],
   "source": [
    "#Stocktwo.loc[\"5-2008\":].iplot(kind= \"candle\")   # CANDLE STICK GRAPH\n",
    "#Stockone.head()\n",
    "### Adding SMA and Bollinger Bands\n",
    "qf2 = cf.QuantFig(df = Stocktwo.loc[\"5-2008\":])    # ANALYSE IN PARTICULAR TIME PERIOD\n",
    "#type(qf)\n",
    "# qf2.iplot(title = tickers[1], name = tickers[1])\n",
    "# qf2.add_sma(periods = 20)                          # add SMA in graph\n",
    "# qf2.iplot(title = tickers[1], name = tickers[1])\n",
    "qf2.add_bollinger_bands(periods = 20, boll_std= 2)   # add bollinger band in  graph \n",
    "qf2.iplot(title = tickers[1], name = tickers[1])"
   ]
  },
  {
   "cell_type": "code",
   "execution_count": null,
   "metadata": {},
   "outputs": [],
   "source": [
    "qf2 = cf.QuantFig(df = Stockone.loc[\"1-2020\":\"5-2020\"])\n",
    "qf2.add_bollinger_bands(periods = 20, boll_std= 2)\n",
    "qf2.add_sma(periods = 20)\n",
    "qf2.add_macd()\n",
    "qf2.add_volume()\n",
    "qf2.add_dmi()\n",
    "qf2.iplot(title = tickers[1], name = tickers[1])"
   ]
  },
  {
   "cell_type": "markdown",
   "metadata": {},
   "source": [
    "### StockThree"
   ]
  },
  {
   "cell_type": "code",
   "execution_count": null,
   "metadata": {},
   "outputs": [],
   "source": [
    "StockName = tickers[2]\n",
    "StockName"
   ]
  },
  {
   "cell_type": "code",
   "execution_count": null,
   "metadata": {},
   "outputs": [],
   "source": [
    "Stock3 = stocks.swaplevel(axis = 1).loc[:,tickers[2] ].copy()    # copy the particular stock for  deatail analysing\n",
    "Stock3.head()\n",
    "Stock3.to_csv(tickers[2] + \".csv\")\n",
    "#Stock3.loc[\"5-2008\":].iplot(kind= \"candle\")   # CANDLE STICK GRAPH\n",
    "#Stock3.head()\n",
    "### Adding SMA and Bollinger Bands\n",
    "qf3 = cf.QuantFig(df = Stock3.loc[\"5-2008\":])    # ANALYSE IN PARTICULAR TIME PERIOD\n",
    "#type(qf3)\n",
    "# qf3.iplot(title = tickers[2], name = tickers[2])\n",
    "# qf3.add_sma(periods = 20)                          # add SMA in graph\n",
    "# qf3.iplot(title = tickers[2], name = tickers[2])\n",
    "qf3.add_bollinger_bands(periods = 20, boll_std= 2)   # add bollinger band in  graph \n",
    "qf3.iplot(title = tickers[2], name = tickers[2])\n",
    "qf3 = cf.QuantFig(df = Stock3.loc[\"1-2020\":\"5-2020\"])\n",
    "qf3.add_bollinger_bands(periods = 20, boll_std= 2)\n",
    "qf3.add_sma(periods = 20)\n",
    "qf3.add_macd()\n",
    "qf3.add_volume()\n",
    "qf3.add_dmi()\n",
    "qf3.iplot(title = tickers[2], name = tickers[2])"
   ]
  },
  {
   "cell_type": "markdown",
   "metadata": {},
   "source": [
    "### Stock Four"
   ]
  },
  {
   "cell_type": "code",
   "execution_count": null,
   "metadata": {},
   "outputs": [],
   "source": [
    "StockName = tickers[3]\n",
    "StockName"
   ]
  },
  {
   "cell_type": "code",
   "execution_count": null,
   "metadata": {},
   "outputs": [],
   "source": [
    "Stock4 = stocks.swaplevel(axis = 1).loc[:,tickers[3] ].copy()    # copy the particular stock for  deatail analysing\n",
    "#Stock4.head()\n",
    "Stock4.to_csv(tickers[2] + \".csv\")\n",
    "#Stock4.loc[\"5-2008\":].iplot(kind= \"candle\")   # CANDLE STICK GRAPH\n",
    "#Stock4.head()\n",
    "### Adding SMA and Bollinger Bands\n",
    "qf4 = cf.QuantFig(df = Stock4.loc[\"5-2008\":])    # ANALYSE IN PARTICULAR TIME PERIOD\n",
    "#type(qf4)\n",
    "# qf4.iplot(title = tickers[3], name = tickers[3])\n",
    "# qf4.add_sma(periods = 20)                          # add SMA in graph\n",
    "# qf4.iplot(title = tickers[3], name = tickers[3])\n",
    "qf4.add_bollinger_bands(periods = 20, boll_std= 2)   # add bollinger band in  graph \n",
    "qf4.iplot(title = tickers[3], name = tickers[3])\n",
    "qf4 = cf.QuantFig(df = Stock4.loc[\"1-2020\":\"5-2020\"])\n",
    "qf4.add_bollinger_bands(periods = 20, boll_std= 2)\n",
    "qf4.add_sma(periods = 20)\n",
    "qf4.add_macd()\n",
    "qf4.add_volume()\n",
    "qf4.add_dmi()\n",
    "qf4.iplot(title = tickers[3], name = tickers[3])"
   ]
  },
  {
   "cell_type": "markdown",
   "metadata": {},
   "source": [
    "### Stock Five"
   ]
  },
  {
   "cell_type": "code",
   "execution_count": null,
   "metadata": {},
   "outputs": [],
   "source": [
    "StockName = tickers[4]\n",
    "StockName"
   ]
  },
  {
   "cell_type": "code",
   "execution_count": null,
   "metadata": {},
   "outputs": [],
   "source": [
    "Stock5 = stocks.swaplevel(axis = 1).loc[:,tickers[4] ].copy()    # copy the particular stock for  deatail analysing\n",
    "#Stock5.head()\n",
    "Stock5.to_csv(tickers[4] + \".csv\")\n",
    "#Stock5.loc[\"5-2008\":].iplot(kind= \"candle\")   # CANDLE STICK GRAPH\n",
    "#Stock5.head()\n",
    "### Adding SMA and Bollinger Bands\n",
    "qf5 = cf.QuantFig(df = Stock5.loc[\"5-2008\":])    # ANALYSE IN PARTICULAR TIME PERIOD\n",
    "#type(qf5)\n",
    "# qf5.iplot(title = tickers[4], name = tickers[4])\n",
    "# qf5.add_sma(periods = 20)                          # add SMA in graph\n",
    "# qf5.iplot(title = tickers[4], name = tickers[4])\n",
    "qf5.add_bollinger_bands(periods = 20, boll_std= 2)   # add bollinger band in  graph \n",
    "qf5.iplot(title = tickers[4], name = tickers[4])\n",
    "qf5 = cf.QuantFig(df = Stock5.loc[\"1-2020\":\"5-2020\"])\n",
    "qf5.add_bollinger_bands(periods = 20, boll_std= 2)\n",
    "qf5.add_sma(periods = 20)\n",
    "qf5.add_macd()\n",
    "qf5.add_volume()\n",
    "qf5.add_dmi()\n",
    "qf5.iplot(title = tickers[4], name = tickers[4])"
   ]
  },
  {
   "cell_type": "code",
   "execution_count": null,
   "metadata": {},
   "outputs": [],
   "source": []
  },
  {
   "cell_type": "markdown",
   "metadata": {},
   "source": [
    "### Stock Six"
   ]
  },
  {
   "cell_type": "code",
   "execution_count": null,
   "metadata": {},
   "outputs": [],
   "source": [
    "StockName = tickers[5]\n",
    "StockName"
   ]
  },
  {
   "cell_type": "code",
   "execution_count": null,
   "metadata": {},
   "outputs": [],
   "source": [
    "Stock6 = stocks.swaplevel(axis = 1).loc[:,tickers[5] ].copy()    # copy the particular stock for  deatail analysing\n",
    "#Stock6.head()\n",
    "Stock6.to_csv(tickers[5] + \".csv\")\n",
    "#Stock6.loc[\"5-2008\":].iplot(kind= \"candle\")   # CANDLE STICK GRAPH\n",
    "#Stock6.head()\n",
    "### Adding SMA and Bollinger Bands\n",
    "qf6 = cf.QuantFig(df = Stock6.loc[\"5-2008\":])    # ANALYSE IN PARTICULAR TIME PERIOD\n",
    "#type(qf6)\n",
    "# qf6.iplot(title = tickers[5], name = tickers[5])\n",
    "# qf6.add_sma(periods = 20)                          # add SMA in graph\n",
    "# qf6.iplot(title = tickers[5], name = tickers[5])\n",
    "qf6.add_bollinger_bands(periods = 20, boll_std= 2)   # add bollinger band in  graph \n",
    "qf6.iplot(title = tickers[5], name = tickers[5])\n",
    "qf6 = cf.QuantFig(df = Stock3.loc[\"1-2020\":\"5-2020\"])\n",
    "qf6.add_bollinger_bands(periods = 20, boll_std= 2)\n",
    "qf6.add_sma(periods = 20)\n",
    "qf6.add_macd()\n",
    "qf6.add_volume()\n",
    "qf6.add_dmi()\n",
    "qf6.iplot(title = tickers[5], name = tickers[5])"
   ]
  },
  {
   "cell_type": "markdown",
   "metadata": {},
   "source": [
    "*****\n",
    "***"
   ]
  },
  {
   "cell_type": "markdown",
   "metadata": {},
   "source": [
    "## Stocks Return and Risk "
   ]
  },
  {
   "cell_type": "code",
   "execution_count": null,
   "metadata": {},
   "outputs": [],
   "source": [
    "ret = StocksAdjClose.pct_change().dropna()   # create daily return of close value\n",
    "ret.to_csv(\"stocksret.csv\")  # save downloded data to CSV File\n",
    "ret.head()"
   ]
  },
  {
   "cell_type": "code",
   "execution_count": null,
   "metadata": {},
   "outputs": [],
   "source": [
    "StocksAdjClose.head(3)"
   ]
  },
  {
   "cell_type": "code",
   "execution_count": null,
   "metadata": {},
   "outputs": [],
   "source": [
    "ret  = StocksAdjClose.pct_change().dropna()\n",
    "#ret.head()\n",
    "#ret.describe().T.loc[:, [\"mean\", \"std\"]]\n",
    "summary = ret.describe().T.loc[:, [\"mean\", \"std\"]]\n",
    "#summary\n",
    "summary[\"mean\"] = summary[\"mean\"]*252\n",
    "summary[\"std\"] = summary[\"std\"] * np.sqrt(252)\n",
    "summary"
   ]
  },
  {
   "cell_type": "code",
   "execution_count": null,
   "metadata": {},
   "outputs": [],
   "source": [
    "summary.to_csv(\"Pfsummary.csv\")"
   ]
  },
  {
   "cell_type": "code",
   "execution_count": null,
   "metadata": {},
   "outputs": [],
   "source": [
    "summary.plot(kind = \"scatter\", x = \"std\", y = \"mean\", figsize = (15,12), s = 50, fontsize = 15)\n",
    "for i in summary.index:\n",
    "    plt.annotate(i, xy=(summary.loc[i, \"std\"]+0.002, summary.loc[i, \"mean\"]+0.002), size = 15)\n",
    "plt.xlabel(\"ann. Risk(std)\", fontsize = 15)\n",
    "plt.ylabel(\"ann. Return\", fontsize = 15)\n",
    "plt.title(\"Risk/Return\", fontsize = 20)\n",
    "plt.show()"
   ]
  },
  {
   "cell_type": "markdown",
   "metadata": {},
   "source": [
    "******"
   ]
  },
  {
   "cell_type": "code",
   "execution_count": null,
   "metadata": {},
   "outputs": [],
   "source": []
  },
  {
   "cell_type": "markdown",
   "metadata": {},
   "source": [
    "### Stocks Co-relation"
   ]
  },
  {
   "cell_type": "code",
   "execution_count": null,
   "metadata": {},
   "outputs": [],
   "source": [
    "# ret.head()\n",
    "# ret.cov()\n",
    "# ret.corr()\n",
    "import seaborn as sns\n",
    "plt.figure(figsize=(12,8))\n",
    "sns.set(font_scale=1.4)\n",
    "sns.heatmap(ret.corr(), cmap = \"Greens\", annot = True, annot_kws={\"size\":15}, vmax = 0.6)\n",
    "sns.clustermap(ret.corr(), annot = True)\n",
    "plt.show()\n",
    "sns.clustermap(bank_stocks.xs(key='Close',axis=1,level='Stock Info').corr(),annot=True)"
   ]
  },
  {
   "cell_type": "code",
   "execution_count": null,
   "metadata": {},
   "outputs": [],
   "source": [
    "# ret.head()\n",
    "# ret.cov()\n",
    "# ret.corr()\n",
    "import seaborn as sns\n",
    "plt.figure(figsize=(12,8))\n",
    "sns.set(font_scale=1.4)\n",
    "sns.clustermap(ret.corr(), annot = True)\n",
    "plt.show()"
   ]
  },
  {
   "cell_type": "code",
   "execution_count": null,
   "metadata": {},
   "outputs": [],
   "source": [
    "# ret.head()\n",
    "# ret.cov()\n",
    "# ret.corr()\n",
    "import seaborn as sns\n",
    "plt.figure(figsize=(12,8))\n",
    "sns.set(font_scale=1.4)\n",
    "sns.heatmap(ret.cov(), cmap = \"Reds\", annot = True, annot_kws={\"size\":15}, vmax = 0.00020)\n",
    "plt.show()"
   ]
  },
  {
   "cell_type": "code",
   "execution_count": null,
   "metadata": {},
   "outputs": [],
   "source": []
  },
  {
   "cell_type": "code",
   "execution_count": null,
   "metadata": {},
   "outputs": [],
   "source": []
  },
  {
   "cell_type": "code",
   "execution_count": null,
   "metadata": {},
   "outputs": [],
   "source": []
  },
  {
   "cell_type": "code",
   "execution_count": null,
   "metadata": {},
   "outputs": [],
   "source": []
  },
  {
   "cell_type": "code",
   "execution_count": null,
   "metadata": {},
   "outputs": [],
   "source": []
  },
  {
   "cell_type": "code",
   "execution_count": null,
   "metadata": {},
   "outputs": [],
   "source": []
  }
 ],
 "metadata": {
  "kernelspec": {
   "display_name": "Python 3",
   "language": "python",
   "name": "python3"
  },
  "language_info": {
   "codemirror_mode": {
    "name": "ipython",
    "version": 3
   },
   "file_extension": ".py",
   "mimetype": "text/x-python",
   "name": "python",
   "nbconvert_exporter": "python",
   "pygments_lexer": "ipython3",
   "version": "3.7.6"
  }
 },
 "nbformat": 4,
 "nbformat_minor": 2
}
